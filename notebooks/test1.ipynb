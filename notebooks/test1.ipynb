{
 "cells": [
  {
   "cell_type": "code",
   "execution_count": 13,
   "metadata": {},
   "outputs": [
    {
     "name": "stdout",
     "output_type": "stream",
     "text": [
      "All features: ['feature_0', 'feature_1', 'feature_2', 'feature_3', 'feature_4', 'feature_5', 'feature_6', 'feature_7', 'feature_8', 'feature_9', 'feature_10', 'feature_11', 'feature_12', 'feature_13', 'feature_14', 'feature_15', 'feature_16', 'feature_17', 'feature_18', 'feature_19']\n",
      "Categorical features: ['feature_0', 'feature_1', 'feature_2', 'feature_3', 'feature_4']\n",
      "Numerical features: ['feature_5', 'feature_6', 'feature_7', 'feature_8', 'feature_9', 'feature_10', 'feature_11', 'feature_12', 'feature_13', 'feature_14', 'feature_15', 'feature_16', 'feature_17', 'feature_18', 'feature_19']\n",
      "Target variable: target\n",
      "Preprocessed feature names: ['feature_5', 'feature_6', 'feature_7', 'feature_8', 'feature_9', 'feature_10', 'feature_11', 'feature_12', 'feature_13', 'feature_14', 'feature_15', 'feature_16', 'feature_17', 'feature_18', 'feature_19', 'feature_0', 'feature_1', 'feature_2', 'feature_3', 'feature_4']\n",
      "One-hot encoding: No\n",
      "(800, 20) (800,)\n"
     ]
    }
   ],
   "source": [
    "import argparse\n",
    "import numpy as np\n",
    "import pandas as pd\n",
    "import yaml\n",
    "from aqad.core import AQADFramework\n",
    "from aqad.utils import load_config, get_model, get_quantization_scheme\n",
    "from aqad.thresholding import AdaptiveThreshold\n",
    "from data.data_loader import load_and_preprocess, DataLoader\n",
    "from attacks.fgsm import fgsm_attack\n",
    "\n",
    "\n",
    "config_path = \"D:/mine/aqad-framework/config/generated_config.yaml\"\n",
    "data_path = \"D:/mine/aqad-framework/synthetic_dataset.csv\"\n",
    "\n",
    "# Load configuration\n",
    "with open(config_path, 'r') as file:\n",
    "    config = yaml.safe_load(file)\n",
    "\n",
    "# Load and preprocess data\n",
    "X, y, new_names = load_and_preprocess(config, data_path, one_hot_encode=False)\n",
    "\n",
    "# Split data\n",
    "loader = DataLoader(config)\n",
    "X_train, X_test, y_train, y_test = loader.split_data(X, y)\n",
    "\n",
    "print(X_train.shape, y_train.shape)\n",
    "\n",
    "#converting it to a dataframe\n",
    "temp = pd.DataFrame(X, columns=new_names)"
   ]
  },
  {
   "cell_type": "code",
   "execution_count": 14,
   "metadata": {},
   "outputs": [
    {
     "name": "stdout",
     "output_type": "stream",
     "text": [
      "Base Model:  RandomForestClassifier(max_depth=10) Quantization Scheme:  [<function get_quantization_scheme.<locals>.<lambda> at 0x00000216EEEEF7E0>, <function get_quantization_scheme.<locals>.<lambda> at 0x00000216EEEEF420>] AED Model:  [RandomForestClassifier(max_depth=5, n_estimators=50), GradientBoostingClassifier(n_estimators=50)] Threshold model:  AdaptiveThreshold(base_estimator=LogisticRegression())\n"
     ]
    },
    {
     "ename": "TypeError",
     "evalue": "AQADFramework.__init__() got an unexpected keyword argument 'feature_names'",
     "output_type": "error",
     "traceback": [
      "\u001b[1;31m---------------------------------------------------------------------------\u001b[0m",
      "\u001b[1;31mTypeError\u001b[0m                                 Traceback (most recent call last)",
      "Cell \u001b[1;32mIn[14], line 16\u001b[0m\n\u001b[0;32m     13\u001b[0m \u001b[38;5;28mprint\u001b[39m(\u001b[38;5;124m\"\u001b[39m\u001b[38;5;124mBase Model: \u001b[39m\u001b[38;5;124m\"\u001b[39m, base_model, \u001b[38;5;124m\"\u001b[39m\u001b[38;5;124mQuantization Scheme: \u001b[39m\u001b[38;5;124m\"\u001b[39m, quantization_schemes, \u001b[38;5;124m\"\u001b[39m\u001b[38;5;124mAED Model: \u001b[39m\u001b[38;5;124m\"\u001b[39m, aed_models, \u001b[38;5;124m\"\u001b[39m\u001b[38;5;124mThreshold model: \u001b[39m\u001b[38;5;124m\"\u001b[39m, threshold_model)\n\u001b[0;32m     15\u001b[0m \u001b[38;5;66;03m# Create AQAD framework\u001b[39;00m\n\u001b[1;32m---> 16\u001b[0m aqad \u001b[38;5;241m=\u001b[39m \u001b[43mAQADFramework\u001b[49m\u001b[43m(\u001b[49m\u001b[43mbase_model\u001b[49m\u001b[43m,\u001b[49m\u001b[43m \u001b[49m\u001b[43mquantization_schemes\u001b[49m\u001b[43m,\u001b[49m\u001b[43m \u001b[49m\u001b[43maed_models\u001b[49m\u001b[43m,\u001b[49m\u001b[43m \u001b[49m\u001b[43mthreshold_model\u001b[49m\u001b[43m,\u001b[49m\u001b[43m \u001b[49m\n\u001b[0;32m     17\u001b[0m \u001b[43m                     \u001b[49m\u001b[43mcategorical_columns\u001b[49m\u001b[38;5;241;43m=\u001b[39;49m\u001b[43m[\u001b[49m\u001b[38;5;124;43m'\u001b[39;49m\u001b[38;5;124;43mfeature_0\u001b[39;49m\u001b[38;5;124;43m'\u001b[39;49m\u001b[43m,\u001b[49m\u001b[43m \u001b[49m\u001b[38;5;124;43m'\u001b[39;49m\u001b[38;5;124;43mfeature_1\u001b[39;49m\u001b[38;5;124;43m'\u001b[39;49m\u001b[43m,\u001b[49m\u001b[43m \u001b[49m\u001b[38;5;124;43m'\u001b[39;49m\u001b[38;5;124;43mfeature_2\u001b[39;49m\u001b[38;5;124;43m'\u001b[39;49m\u001b[43m,\u001b[49m\u001b[43m \u001b[49m\u001b[38;5;124;43m'\u001b[39;49m\u001b[38;5;124;43mfeature_3\u001b[39;49m\u001b[38;5;124;43m'\u001b[39;49m\u001b[43m,\u001b[49m\u001b[43m \u001b[49m\u001b[38;5;124;43m'\u001b[39;49m\u001b[38;5;124;43mfeature_4\u001b[39;49m\u001b[38;5;124;43m'\u001b[39;49m\u001b[43m]\u001b[49m\u001b[43m,\u001b[49m\n\u001b[0;32m     18\u001b[0m \u001b[43m                     \u001b[49m\u001b[43mfeature_names\u001b[49m\u001b[38;5;241;43m=\u001b[39;49m\u001b[38;5;28;43mlist\u001b[39;49m\u001b[43m(\u001b[49m\u001b[43mtemp\u001b[49m\u001b[38;5;241;43m.\u001b[39;49m\u001b[43mcolumns\u001b[49m\u001b[43m)\u001b[49m\u001b[43m)\u001b[49m\n\u001b[0;32m     20\u001b[0m \u001b[38;5;66;03m# Train base model\u001b[39;00m\n\u001b[0;32m     21\u001b[0m base_model\u001b[38;5;241m.\u001b[39mfit(X_train, y_train)\n",
      "\u001b[1;31mTypeError\u001b[0m: AQADFramework.__init__() got an unexpected keyword argument 'feature_names'"
     ]
    }
   ],
   "source": [
    "\n",
    "# Initialize base model\n",
    "base_model = get_model(config['base_model'])\n",
    "\n",
    "# Initialize quantization schemes\n",
    "quantization_schemes = [get_quantization_scheme(scheme) for scheme in config['quantization_schemes']]\n",
    "\n",
    "# Initialize AED models\n",
    "aed_models = [get_model(model_config) for model_config in config['aed_models']]\n",
    "\n",
    "# Initialize threshold model\n",
    "threshold_model = AdaptiveThreshold(get_model(config['threshold_model']))\n",
    "\n",
    "print(\"Base Model: \", base_model, \"Quantization Scheme: \", quantization_schemes, \"AED Model: \", aed_models, \"Threshold model: \", threshold_model)\n",
    "\n",
    "# Create AQAD framework\n",
    "aqad = AQADFramework(base_model, quantization_schemes, aed_models, threshold_model, \n",
    "                     categorical_columns=['feature_0', 'feature_1', 'feature_2', 'feature_3', 'feature_4'],\n",
    "                     feature_names=list(temp.columns))\n",
    "\n",
    "# Train base model\n",
    "base_model.fit(X_train, y_train)\n",
    "\n",
    "# Generate adversarial examples\n",
    "X_train_adv = fgsm_attack(base_model, pd.DataFrame(X_train, columns=list(temp.columns)), y_train, epsilon=0.1, \n",
    "                          categorical_columns=['feature_0', 'feature_1', 'feature_2', 'feature_3', 'feature_4'])"
   ]
  },
  {
   "cell_type": "code",
   "execution_count": 12,
   "metadata": {},
   "outputs": [
    {
     "name": "stdout",
     "output_type": "stream",
     "text": [
      "Base Model:  RandomForestClassifier(max_depth=10) Quantization Scheme:  [<function get_quantization_scheme.<locals>.<lambda> at 0x00000216EEEEE8E0>, <function get_quantization_scheme.<locals>.<lambda> at 0x00000216EEEEF560>] AED Model:  [RandomForestClassifier(max_depth=5, n_estimators=50), GradientBoostingClassifier(n_estimators=50)] Threshold model:  AdaptiveThreshold(base_estimator=LogisticRegression())\n"
     ]
    },
    {
     "ename": "TypeError",
     "evalue": "AQADFramework.__init__() got an unexpected keyword argument 'feature_names'",
     "output_type": "error",
     "traceback": [
      "\u001b[1;31m---------------------------------------------------------------------------\u001b[0m",
      "\u001b[1;31mTypeError\u001b[0m                                 Traceback (most recent call last)",
      "Cell \u001b[1;32mIn[12], line 16\u001b[0m\n\u001b[0;32m     13\u001b[0m \u001b[38;5;28mprint\u001b[39m(\u001b[38;5;124m\"\u001b[39m\u001b[38;5;124mBase Model: \u001b[39m\u001b[38;5;124m\"\u001b[39m, base_model, \u001b[38;5;124m\"\u001b[39m\u001b[38;5;124mQuantization Scheme: \u001b[39m\u001b[38;5;124m\"\u001b[39m, quantization_schemes, \u001b[38;5;124m\"\u001b[39m\u001b[38;5;124mAED Model: \u001b[39m\u001b[38;5;124m\"\u001b[39m, aed_models, \u001b[38;5;124m\"\u001b[39m\u001b[38;5;124mThreshold model: \u001b[39m\u001b[38;5;124m\"\u001b[39m, threshold_model)\n\u001b[0;32m     15\u001b[0m \u001b[38;5;66;03m# Create AQAD framework\u001b[39;00m\n\u001b[1;32m---> 16\u001b[0m aqad \u001b[38;5;241m=\u001b[39m \u001b[43mAQADFramework\u001b[49m\u001b[43m(\u001b[49m\u001b[43mbase_model\u001b[49m\u001b[43m,\u001b[49m\u001b[43m \u001b[49m\u001b[43mquantization_schemes\u001b[49m\u001b[43m,\u001b[49m\u001b[43m \u001b[49m\u001b[43maed_models\u001b[49m\u001b[43m,\u001b[49m\u001b[43m \u001b[49m\u001b[43mthreshold_model\u001b[49m\u001b[43m,\u001b[49m\u001b[43m \u001b[49m\n\u001b[0;32m     17\u001b[0m \u001b[43m                     \u001b[49m\u001b[43mcategorical_columns\u001b[49m\u001b[38;5;241;43m=\u001b[39;49m\u001b[43m[\u001b[49m\u001b[38;5;124;43m'\u001b[39;49m\u001b[38;5;124;43mfeature_0\u001b[39;49m\u001b[38;5;124;43m'\u001b[39;49m\u001b[43m,\u001b[49m\u001b[43m \u001b[49m\u001b[38;5;124;43m'\u001b[39;49m\u001b[38;5;124;43mfeature_1\u001b[39;49m\u001b[38;5;124;43m'\u001b[39;49m\u001b[43m,\u001b[49m\u001b[43m \u001b[49m\u001b[38;5;124;43m'\u001b[39;49m\u001b[38;5;124;43mfeature_2\u001b[39;49m\u001b[38;5;124;43m'\u001b[39;49m\u001b[43m,\u001b[49m\u001b[43m \u001b[49m\u001b[38;5;124;43m'\u001b[39;49m\u001b[38;5;124;43mfeature_3\u001b[39;49m\u001b[38;5;124;43m'\u001b[39;49m\u001b[43m,\u001b[49m\u001b[43m \u001b[49m\u001b[38;5;124;43m'\u001b[39;49m\u001b[38;5;124;43mfeature_4\u001b[39;49m\u001b[38;5;124;43m'\u001b[39;49m\u001b[43m]\u001b[49m\u001b[43m,\u001b[49m\n\u001b[0;32m     18\u001b[0m \u001b[43m                     \u001b[49m\u001b[43mfeature_names\u001b[49m\u001b[38;5;241;43m=\u001b[39;49m\u001b[38;5;28;43mlist\u001b[39;49m\u001b[43m(\u001b[49m\u001b[43mtemp\u001b[49m\u001b[38;5;241;43m.\u001b[39;49m\u001b[43mcolumns\u001b[49m\u001b[43m)\u001b[49m\u001b[43m)\u001b[49m\n\u001b[0;32m     20\u001b[0m \u001b[38;5;66;03m# Train base model\u001b[39;00m\n\u001b[0;32m     21\u001b[0m base_model\u001b[38;5;241m.\u001b[39mfit(X_train, y_train)\n",
      "\u001b[1;31mTypeError\u001b[0m: AQADFramework.__init__() got an unexpected keyword argument 'feature_names'"
     ]
    }
   ],
   "source": [
    "# Initialize base model\n",
    "base_model = get_model(config['base_model'])\n",
    "\n",
    "# Initialize quantization schemes\n",
    "quantization_schemes = [get_quantization_scheme(scheme) for scheme in config['quantization_schemes']]\n",
    "\n",
    "# Initialize AED models\n",
    "aed_models = [get_model(model_config) for model_config in config['aed_models']]\n",
    "\n",
    "# Initialize threshold model\n",
    "threshold_model = AdaptiveThreshold(get_model(config['threshold_model']))\n",
    "\n",
    "print(\"Base Model: \", base_model, \"Quantization Scheme: \", quantization_schemes, \"AED Model: \", aed_models, \"Threshold model: \", threshold_model)\n",
    "\n",
    "# Create AQAD framework\n",
    "aqad = AQADFramework(base_model, quantization_schemes, aed_models, threshold_model, \n",
    "                     categorical_columns=['feature_0', 'feature_1', 'feature_2', 'feature_3', 'feature_4'],\n",
    "                     feature_names=list(temp.columns))\n",
    "\n",
    "# Train base model\n",
    "base_model.fit(X_train, y_train)\n",
    "\n",
    "# Generate adversarial examples\n",
    "X_train_adv = fgsm_attack(base_model, pd.DataFrame(X_train, columns=list(temp.columns)), y_train, epsilon=0.1, \n",
    "                          categorical_columns=['feature_0', 'feature_1', 'feature_2', 'feature_3', 'feature_4'])\n"
   ]
  },
  {
   "cell_type": "code",
   "execution_count": null,
   "metadata": {},
   "outputs": [],
   "source": [
    "# Combine original and adversarial examples\n",
    "X_train_combined = np.vstack([X_train, X_train_adv])\n",
    "y_train_combined = np.hstack([y_train, y_train])\n",
    "\n",
    "# Train AQAD framework\n",
    "aqad.fit(X_train_combined, y_train_combined)\n",
    "\n",
    "# Evaluate\n",
    "y_pred = aqad.predict(X_test)\n",
    "accuracy = np.mean(y_pred == y_test)\n",
    "print(f\"Test accuracy: {accuracy}\")\n"
   ]
  }
 ],
 "metadata": {
  "kernelspec": {
   "display_name": "aqad",
   "language": "python",
   "name": "python3"
  },
  "language_info": {
   "codemirror_mode": {
    "name": "ipython",
    "version": 3
   },
   "file_extension": ".py",
   "mimetype": "text/x-python",
   "name": "python",
   "nbconvert_exporter": "python",
   "pygments_lexer": "ipython3",
   "version": "3.11.9"
  }
 },
 "nbformat": 4,
 "nbformat_minor": 2
}
